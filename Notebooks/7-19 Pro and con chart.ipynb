{
 "cells": [
  {
   "cell_type": "markdown",
   "id": "9ee2f0ba",
   "metadata": {},
   "source": [
    "|     | 311                                                                                                                                                                                                                                               | Flood Maps                                                                                                                                                                                                                             | Rainfall                                                                                                                                | FloodSense Data |\n",
    "|-----|---------------------------------------------------------------------------------------------------------------------------------------------------------------------------------------------------------------------------------------------------|----------------------------------------------------------------------------------------------------------------------------------------------------------------------------------------------------------------------------------------|-----------------------------------------------------------------------------------------------------------------------------------------|-----------------|\n",
    "| PRO | -Includes a lot of information (time, address, complaint, coordinates, and more)<br>-Includes many filters<br>-Map available as a visual<br>-Includes a wide range of data from 2010<br>-The map allows you to easily pinpoint a certain location | - Color-coded for an easy visual of different flood levels<br>-Includes an easy-to-read key, giving specific details (height of flooding, future high tides, etc.)<br>- Map is easy to navigate<br>- Allows you to change the base map | - Includes many filters to incorporate specific time frames<br>- Includes height of flooding<br>- Can be used to plot points on a graph |                 |\n",
    "| CON | -The table is hard to read<br>-Does not account for all flood-related incidents<br>-No specific details about flooding (ex: no information about the height of flooding)                                                                          | - Does not have coordinates                                                                                                                                                                                                            | - No map available to visually identify locations<br>- Does not specify which neighborhoods or addresses are impacted                   |                 |"
   ]
  },
  {
   "cell_type": "code",
   "execution_count": null,
   "id": "b62112b1",
   "metadata": {},
   "outputs": [],
   "source": []
  }
 ],
 "metadata": {
  "kernelspec": {
   "display_name": "Python 3",
   "language": "python",
   "name": "python3"
  },
  "language_info": {
   "codemirror_mode": {
    "name": "ipython",
    "version": 3
   },
   "file_extension": ".py",
   "mimetype": "text/x-python",
   "name": "python",
   "nbconvert_exporter": "python",
   "pygments_lexer": "ipython3",
   "version": "3.8.8"
  }
 },
 "nbformat": 4,
 "nbformat_minor": 5
}
